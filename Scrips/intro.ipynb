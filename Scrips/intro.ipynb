{
 "cells": [
  {
   "cell_type": "markdown",
   "id": "efa8cdd6",
   "metadata": {},
   "source": [
    "# Tarea curso Python Intensivo"
   ]
  },
  {
   "cell_type": "code",
   "execution_count": 7,
   "id": "19f28ed5",
   "metadata": {},
   "outputs": [
    {
     "name": "stdout",
     "output_type": "stream",
     "text": [
      "Escribe tu nombre: Luis\n",
      "¿Cuál es tu sexo? Masculino\n",
      "¿Qué edad tienes? 31\n",
      "¿Cuál es tu correo electrónico? fulanito@title.com\n",
      "¿A que te dedicas actualmente? Empleado\n",
      "Hola Luis, de 31 años. Tu sexo que diste fue Masculino, tu correo electrónico es fulanito@title.com y te dedicas a Empleado.\n"
     ]
    }
   ],
   "source": [
    "#trabajo 3\n",
    "\n",
    "nombre = input(\"Escribe tu nombre: \")\n",
    "sexo = input(\"¿Cuál es tu sexo? \")\n",
    "edad = input(\"¿Qué edad tienes? \")\n",
    "mail = input(\"¿Cuál es tu correo electrónico? \")\n",
    "ocupacion = input (\"¿A que te dedicas actualmente? \")\n",
    "\n",
    "print (f\"Hola {nombre}, de {edad} años. Tu sexo que diste fue {sexo}, tu correo electrónico es {mail} y te dedicas a {ocupacion}.\")\n"
   ]
  },
  {
   "cell_type": "code",
   "execution_count": 6,
   "id": "09bef9c4",
   "metadata": {},
   "outputs": [
    {
     "name": "stdout",
     "output_type": "stream",
     "text": [
      "¿Cuál es tu salario mensual actual? 20000\n",
      "Tu dinero disponible a la semana es de: $5000 M/N.\n",
      "Tu dinero disponible semestralmente es de: $120000 M/N.\n",
      "Tu dinero disponible anual es de: $240000 M/N.\n"
     ]
    }
   ],
   "source": [
    "#Trabajo 4\n",
    "\n",
    "salario = input(\"¿Cuál es tu salario mensual actual? \")\n",
    "salario = int(salario)\n",
    "\n",
    "print(f\"Tu dinero disponible a la semana es de: ${int(salario/4)} M/N.\")\n",
    "print(f\"Tu dinero disponible semestralmente es de: ${salario*6} M/N.\")\n",
    "print(f\"Tu dinero disponible anual es de: ${salario*12} M/N.\")"
   ]
  },
  {
   "cell_type": "code",
   "execution_count": 5,
   "id": "e454077f",
   "metadata": {},
   "outputs": [
    {
     "name": "stdout",
     "output_type": "stream",
     "text": [
      "¿Cuánto desea pedir préstado? 10000\n",
      "¿A qué plazo en meses le gustaría pedirlo? 36\n",
      "¿A qué tasa de interés anual le gustaría pedir el préstamo? 15\n",
      "EL pago total de su prestamo sería de: $14500.0 M/N.\n",
      "El pago mensual de su prestamo seria de: $402.77777777777777 M/N.\n"
     ]
    }
   ],
   "source": [
    "#Trabajo 5\n",
    "\n",
    "prestamo = input(\"¿Cuánto desea pedir préstado? \")\n",
    "prestamo = int(prestamo)\n",
    "plazo = input(\"¿A qué plazo en meses le gustaría pedirlo? \")\n",
    "plazo = int(plazo)\n",
    "tasa = input(\"¿A qué tasa de interés anual le gustaría pedir el préstamo? \")\n",
    "tasa = float(tasa)\n",
    "tasa = tasa/100\n",
    "\n",
    "interes = (prestamo*tasa)\n",
    "pagototal = prestamo + (interes*(plazo/12))\n",
    "pagomensual = pagototal/plazo\n",
    "\n",
    "print(f\"EL pago total de su prestamo sería de: ${pagototal} M/N.\")\n",
    "print(f\"El pago mensual de su prestamo seria de: ${pagomensual} M/N.\")"
   ]
  },
  {
   "cell_type": "code",
   "execution_count": 2,
   "id": "2f803e11",
   "metadata": {},
   "outputs": [
    {
     "name": "stdout",
     "output_type": "stream",
     "text": [
      "¿Qué área de las siguientes figuras deseas calcular? De un cuadrado, un triángulo, un rectángulo o un círculo. dado\n",
      "Figura no valida, por favor de revisar la ortografía o que sea una de las figuras mencionadas. Grscias\n"
     ]
    }
   ],
   "source": [
    "#Trabajo 6\n",
    "\n",
    "figura = input('¿Qué área de las siguientes figuras deseas calcular? De un cuadrado, un triángulo, un rectángulo o un círculo. ')\n",
    "\n",
    "if figura == 'cuadrado':\n",
    "    lado = input(\"¿De que tamaño del lado del cuadrado? \")\n",
    "    lado = float(lado)\n",
    "    area1 = lado*lado\n",
    "    print(f\"El area del cuadrado es de {area1} cm.\")\n",
    "    \n",
    "elif figura == 'rectángulo':\n",
    "    base1 = input(\"¿Cuál es el tamaño de la base del rectángulo? \")\n",
    "    base1 = float(base1)\n",
    "    altura1 = input(\"¿Cual es la altura? \")\n",
    "    altura1 = float(altura1)\n",
    "    area2 = base1*altura1\n",
    "    print(f\"El area del rectángulo es de {area2} cm.\")\n",
    "    \n",
    "elif figura == 'triángulo':\n",
    "    base2 = input(\"¿Cuál es el tamaño de la base del triángulo? \")\n",
    "    base2 = float(base2)\n",
    "    altura2 = input(\"¿Cual es la altura? \")\n",
    "    altura2 = float(altura2)\n",
    "    area3 = (base2*altura2)/2\n",
    "    print(f\"El area del triángulo es de {area3} cm.\")\n",
    "    \n",
    "elif figura == 'círculo':\n",
    "    radio = input(\"¿De que tamaño es el radio del círculo? \")\n",
    "    radio = float(radio)\n",
    "    area4 = 3.1416*(radio**2)\n",
    "    print(f\"El area del círculo es de {area4} cm.\")\n",
    "    \n",
    "else :\n",
    "\n",
    "     print(f\"Figura no valida, por favor de revisar la ortografía o que sea una de las figuras mencionadas. Gracias\")"
   ]
  }
 ],
 "metadata": {
  "kernelspec": {
   "display_name": "Python 3 (ipykernel)",
   "language": "python",
   "name": "python3"
  },
  "language_info": {
   "codemirror_mode": {
    "name": "ipython",
    "version": 3
   },
   "file_extension": ".py",
   "mimetype": "text/x-python",
   "name": "python",
   "nbconvert_exporter": "python",
   "pygments_lexer": "ipython3",
   "version": "3.9.13"
  }
 },
 "nbformat": 4,
 "nbformat_minor": 5
}
